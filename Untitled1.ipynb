{
 "cells": [
  {
   "cell_type": "code",
   "execution_count": 28,
   "id": "64a15ca1-d260-4af5-aa59-3355a10477b7",
   "metadata": {},
   "outputs": [],
   "source": [
    "import pandas as pd\n",
    "import matplotlib.pyplot as plt\n",
    "import numpy as np\n",
    "from sklearn import datasets, linear_model, metrics\n",
    "import seaborn as sns\n",
    "from math import sqrt"
   ]
  },
  {
   "cell_type": "code",
   "execution_count": 2,
   "id": "bccb122a-e43e-4355-b3c6-0227efc4df91",
   "metadata": {},
   "outputs": [
    {
     "name": "stdout",
     "output_type": "stream",
     "text": [
      "0\n",
      "1\n",
      "2\n"
     ]
    }
   ],
   "source": [
    "fname = ['data/heart_2020_cleaned.csv'\n",
    "         ,'data/heart_2020_cleaned 2.csv'\n",
    "         ,'data/heart_2020_cleaned 3.csv'\n",
    "         ]\n",
    "\n",
    "getDF = lambda fname : pd.read_csv(fname)\n",
    "YesNo2Binary = lambda flg: 1 if flg == 'Yes' else 0\n",
    "Sex2Binary = lambda flg: 1 if flg == 'Male' else 0\n",
    "\n",
    "\n",
    "dfList = []\n",
    "\n",
    "for i in range(len(fname)):\n",
    "    print(i)\n",
    "    d = getDF(fname[i])\n",
    "    #print(d.head())\n",
    "    dfList.append(d)\n",
    "    #df.append(d)\n",
    "    \n",
    "df = dfList[0]\n",
    "df.append(dfList[1])\n",
    "df.append(dfList[2])\n",
    "\n",
    "df.reset_index(inplace=True)\n",
    "\n",
    "AgeCatList = df['AgeCategory'].unique().tolist()\n",
    "RaceCatList = df['Race'].unique().tolist()\n",
    "GenHealthCatList = df['GenHealth'].unique().tolist()\n",
    "PhysicalHealthMin = df['PhysicalHealth'].min()\n",
    "PhysicalHealthMax = df['PhysicalHealth'].max()\n",
    "MentalHealthMin = df['MentalHealth'].min()\n",
    "MentalHealthMax = df['MentalHealth'].max()\n",
    "SleepTimeMin = df['SleepTime'].min()\n",
    "SleepTimeMax = df['SleepTime'].max()\n",
    "\n",
    "\n",
    "def prepDF(df):\n",
    "    YesNoCols = ['HeartDisease','Smoking','AlcoholDrinking','Stroke','DiffWalking','Diabetic','PhysicalActivity','Asthma','KidneyDisease','SkinCancer']\n",
    "    for c in YesNoCols:\n",
    "        df[c] = df[c].apply(YesNo2Binary)\n",
    "\n",
    "\n",
    "    df['Sex'] = df['Sex'].apply(Sex2Binary)\n",
    "    \n",
    "    df = pd.get_dummies(df, prefix='AgeCategory', prefix_sep='_', dummy_na=False, columns=['AgeCategory'])\n",
    "    df = pd.get_dummies(df, prefix='Race', prefix_sep='_', dummy_na=False, columns=['Race'])\n",
    "    df = pd.get_dummies(df, prefix='GenHealth', prefix_sep='_', dummy_na=False, columns=['GenHealth'])\n",
    "    \n",
    "    return df\n",
    "\n"
   ]
  },
  {
   "cell_type": "code",
   "execution_count": 3,
   "id": "8b43dfd8-4abe-4db3-81d1-86aa5df4f3bd",
   "metadata": {},
   "outputs": [
    {
     "data": {
      "text/plain": [
       "index               0\n",
       "HeartDisease        0\n",
       "BMI                 0\n",
       "Smoking             0\n",
       "AlcoholDrinking     0\n",
       "Stroke              0\n",
       "PhysicalHealth      0\n",
       "MentalHealth        0\n",
       "DiffWalking         0\n",
       "Sex                 0\n",
       "AgeCategory         0\n",
       "Race                0\n",
       "Diabetic            0\n",
       "PhysicalActivity    0\n",
       "GenHealth           0\n",
       "SleepTime           0\n",
       "Asthma              0\n",
       "KidneyDisease       0\n",
       "SkinCancer          0\n",
       "dtype: int64"
      ]
     },
     "execution_count": 3,
     "metadata": {},
     "output_type": "execute_result"
    }
   ],
   "source": [
    "df.isna().sum()"
   ]
  },
  {
   "cell_type": "code",
   "execution_count": 4,
   "id": "1ff2d16f-5af7-4a3c-a2c6-13308eb52859",
   "metadata": {},
   "outputs": [
    {
     "data": {
      "text/plain": [
       "<bound method NDFrame.describe of          index HeartDisease    BMI Smoking AlcoholDrinking Stroke  \\\n",
       "0            0           No  16.60     Yes              No     No   \n",
       "1            1           No  20.34      No              No    Yes   \n",
       "2            2           No  26.58     Yes              No     No   \n",
       "3            3           No  24.21      No              No     No   \n",
       "4            4           No  23.71      No              No     No   \n",
       "...        ...          ...    ...     ...             ...    ...   \n",
       "319790  319790          Yes  27.41     Yes              No     No   \n",
       "319791  319791           No  29.84     Yes              No     No   \n",
       "319792  319792           No  24.24      No              No     No   \n",
       "319793  319793           No  32.81      No              No     No   \n",
       "319794  319794           No  46.56      No              No     No   \n",
       "\n",
       "        PhysicalHealth  MentalHealth DiffWalking     Sex  AgeCategory  \\\n",
       "0                  3.0          30.0          No  Female        55-59   \n",
       "1                  0.0           0.0          No  Female  80 or older   \n",
       "2                 20.0          30.0          No    Male        65-69   \n",
       "3                  0.0           0.0          No  Female        75-79   \n",
       "4                 28.0           0.0         Yes  Female        40-44   \n",
       "...                ...           ...         ...     ...          ...   \n",
       "319790             7.0           0.0         Yes    Male        60-64   \n",
       "319791             0.0           0.0          No    Male        35-39   \n",
       "319792             0.0           0.0          No  Female        45-49   \n",
       "319793             0.0           0.0          No  Female        25-29   \n",
       "319794             0.0           0.0          No  Female  80 or older   \n",
       "\n",
       "            Race Diabetic PhysicalActivity  GenHealth  SleepTime Asthma  \\\n",
       "0          White      Yes              Yes  Very good        5.0    Yes   \n",
       "1          White       No              Yes  Very good        7.0     No   \n",
       "2          White      Yes              Yes       Fair        8.0    Yes   \n",
       "3          White       No               No       Good        6.0     No   \n",
       "4          White       No              Yes  Very good        8.0     No   \n",
       "...          ...      ...              ...        ...        ...    ...   \n",
       "319790  Hispanic      Yes               No       Fair        6.0    Yes   \n",
       "319791  Hispanic       No              Yes  Very good        5.0    Yes   \n",
       "319792  Hispanic       No              Yes       Good        6.0     No   \n",
       "319793  Hispanic       No               No       Good       12.0     No   \n",
       "319794  Hispanic       No              Yes       Good        8.0     No   \n",
       "\n",
       "       KidneyDisease SkinCancer  \n",
       "0                 No        Yes  \n",
       "1                 No         No  \n",
       "2                 No         No  \n",
       "3                 No        Yes  \n",
       "4                 No         No  \n",
       "...              ...        ...  \n",
       "319790            No         No  \n",
       "319791            No         No  \n",
       "319792            No         No  \n",
       "319793            No         No  \n",
       "319794            No         No  \n",
       "\n",
       "[319795 rows x 19 columns]>"
      ]
     },
     "execution_count": 4,
     "metadata": {},
     "output_type": "execute_result"
    }
   ],
   "source": [
    "df.describe"
   ]
  },
  {
   "cell_type": "code",
   "execution_count": 5,
   "id": "88b7d009-82b6-4fb0-a56c-954efdad4ebe",
   "metadata": {},
   "outputs": [
    {
     "data": {
      "text/html": [
       "<div>\n",
       "<style scoped>\n",
       "    .dataframe tbody tr th:only-of-type {\n",
       "        vertical-align: middle;\n",
       "    }\n",
       "\n",
       "    .dataframe tbody tr th {\n",
       "        vertical-align: top;\n",
       "    }\n",
       "\n",
       "    .dataframe thead th {\n",
       "        text-align: right;\n",
       "    }\n",
       "</style>\n",
       "<table border=\"1\" class=\"dataframe\">\n",
       "  <thead>\n",
       "    <tr style=\"text-align: right;\">\n",
       "      <th></th>\n",
       "      <th>index</th>\n",
       "      <th>HeartDisease</th>\n",
       "      <th>BMI</th>\n",
       "      <th>Smoking</th>\n",
       "      <th>AlcoholDrinking</th>\n",
       "      <th>Stroke</th>\n",
       "      <th>PhysicalHealth</th>\n",
       "      <th>MentalHealth</th>\n",
       "      <th>DiffWalking</th>\n",
       "      <th>Sex</th>\n",
       "      <th>...</th>\n",
       "      <th>Race_Asian</th>\n",
       "      <th>Race_Black</th>\n",
       "      <th>Race_Hispanic</th>\n",
       "      <th>Race_Other</th>\n",
       "      <th>Race_White</th>\n",
       "      <th>GenHealth_Excellent</th>\n",
       "      <th>GenHealth_Fair</th>\n",
       "      <th>GenHealth_Good</th>\n",
       "      <th>GenHealth_Poor</th>\n",
       "      <th>GenHealth_Very good</th>\n",
       "    </tr>\n",
       "  </thead>\n",
       "  <tbody>\n",
       "    <tr>\n",
       "      <th>0</th>\n",
       "      <td>0</td>\n",
       "      <td>0</td>\n",
       "      <td>16.60</td>\n",
       "      <td>1</td>\n",
       "      <td>0</td>\n",
       "      <td>0</td>\n",
       "      <td>3.0</td>\n",
       "      <td>30.0</td>\n",
       "      <td>0</td>\n",
       "      <td>0</td>\n",
       "      <td>...</td>\n",
       "      <td>0</td>\n",
       "      <td>0</td>\n",
       "      <td>0</td>\n",
       "      <td>0</td>\n",
       "      <td>1</td>\n",
       "      <td>0</td>\n",
       "      <td>0</td>\n",
       "      <td>0</td>\n",
       "      <td>0</td>\n",
       "      <td>1</td>\n",
       "    </tr>\n",
       "    <tr>\n",
       "      <th>1</th>\n",
       "      <td>1</td>\n",
       "      <td>0</td>\n",
       "      <td>20.34</td>\n",
       "      <td>0</td>\n",
       "      <td>0</td>\n",
       "      <td>1</td>\n",
       "      <td>0.0</td>\n",
       "      <td>0.0</td>\n",
       "      <td>0</td>\n",
       "      <td>0</td>\n",
       "      <td>...</td>\n",
       "      <td>0</td>\n",
       "      <td>0</td>\n",
       "      <td>0</td>\n",
       "      <td>0</td>\n",
       "      <td>1</td>\n",
       "      <td>0</td>\n",
       "      <td>0</td>\n",
       "      <td>0</td>\n",
       "      <td>0</td>\n",
       "      <td>1</td>\n",
       "    </tr>\n",
       "    <tr>\n",
       "      <th>2</th>\n",
       "      <td>2</td>\n",
       "      <td>0</td>\n",
       "      <td>26.58</td>\n",
       "      <td>1</td>\n",
       "      <td>0</td>\n",
       "      <td>0</td>\n",
       "      <td>20.0</td>\n",
       "      <td>30.0</td>\n",
       "      <td>0</td>\n",
       "      <td>1</td>\n",
       "      <td>...</td>\n",
       "      <td>0</td>\n",
       "      <td>0</td>\n",
       "      <td>0</td>\n",
       "      <td>0</td>\n",
       "      <td>1</td>\n",
       "      <td>0</td>\n",
       "      <td>1</td>\n",
       "      <td>0</td>\n",
       "      <td>0</td>\n",
       "      <td>0</td>\n",
       "    </tr>\n",
       "    <tr>\n",
       "      <th>3</th>\n",
       "      <td>3</td>\n",
       "      <td>0</td>\n",
       "      <td>24.21</td>\n",
       "      <td>0</td>\n",
       "      <td>0</td>\n",
       "      <td>0</td>\n",
       "      <td>0.0</td>\n",
       "      <td>0.0</td>\n",
       "      <td>0</td>\n",
       "      <td>0</td>\n",
       "      <td>...</td>\n",
       "      <td>0</td>\n",
       "      <td>0</td>\n",
       "      <td>0</td>\n",
       "      <td>0</td>\n",
       "      <td>1</td>\n",
       "      <td>0</td>\n",
       "      <td>0</td>\n",
       "      <td>1</td>\n",
       "      <td>0</td>\n",
       "      <td>0</td>\n",
       "    </tr>\n",
       "    <tr>\n",
       "      <th>4</th>\n",
       "      <td>4</td>\n",
       "      <td>0</td>\n",
       "      <td>23.71</td>\n",
       "      <td>0</td>\n",
       "      <td>0</td>\n",
       "      <td>0</td>\n",
       "      <td>28.0</td>\n",
       "      <td>0.0</td>\n",
       "      <td>1</td>\n",
       "      <td>0</td>\n",
       "      <td>...</td>\n",
       "      <td>0</td>\n",
       "      <td>0</td>\n",
       "      <td>0</td>\n",
       "      <td>0</td>\n",
       "      <td>1</td>\n",
       "      <td>0</td>\n",
       "      <td>0</td>\n",
       "      <td>0</td>\n",
       "      <td>0</td>\n",
       "      <td>1</td>\n",
       "    </tr>\n",
       "  </tbody>\n",
       "</table>\n",
       "<p>5 rows × 40 columns</p>\n",
       "</div>"
      ],
      "text/plain": [
       "   index  HeartDisease    BMI  Smoking  AlcoholDrinking  Stroke  \\\n",
       "0      0             0  16.60        1                0       0   \n",
       "1      1             0  20.34        0                0       1   \n",
       "2      2             0  26.58        1                0       0   \n",
       "3      3             0  24.21        0                0       0   \n",
       "4      4             0  23.71        0                0       0   \n",
       "\n",
       "   PhysicalHealth  MentalHealth  DiffWalking  Sex  ...  Race_Asian  \\\n",
       "0             3.0          30.0            0    0  ...           0   \n",
       "1             0.0           0.0            0    0  ...           0   \n",
       "2            20.0          30.0            0    1  ...           0   \n",
       "3             0.0           0.0            0    0  ...           0   \n",
       "4            28.0           0.0            1    0  ...           0   \n",
       "\n",
       "   Race_Black  Race_Hispanic  Race_Other  Race_White  GenHealth_Excellent  \\\n",
       "0           0              0           0           1                    0   \n",
       "1           0              0           0           1                    0   \n",
       "2           0              0           0           1                    0   \n",
       "3           0              0           0           1                    0   \n",
       "4           0              0           0           1                    0   \n",
       "\n",
       "   GenHealth_Fair  GenHealth_Good  GenHealth_Poor  GenHealth_Very good  \n",
       "0               0               0               0                    1  \n",
       "1               0               0               0                    1  \n",
       "2               1               0               0                    0  \n",
       "3               0               1               0                    0  \n",
       "4               0               0               0                    1  \n",
       "\n",
       "[5 rows x 40 columns]"
      ]
     },
     "execution_count": 5,
     "metadata": {},
     "output_type": "execute_result"
    }
   ],
   "source": [
    "df = prepDF(df)\n",
    "df.head()"
   ]
  },
  {
   "cell_type": "code",
   "execution_count": 6,
   "id": "04727520-2cbc-45b7-a676-bf9b624e4e04",
   "metadata": {},
   "outputs": [
    {
     "data": {
      "text/plain": [
       "(319795, 40)"
      ]
     },
     "execution_count": 6,
     "metadata": {},
     "output_type": "execute_result"
    }
   ],
   "source": [
    "df.shape"
   ]
  },
  {
   "cell_type": "code",
   "execution_count": 7,
   "id": "46507648-9004-4180-a95f-c578258fd8b5",
   "metadata": {},
   "outputs": [
    {
     "data": {
      "text/plain": [
       "(319795, 40)"
      ]
     },
     "execution_count": 7,
     "metadata": {},
     "output_type": "execute_result"
    }
   ],
   "source": [
    "df.drop_duplicates(inplace=True)\n",
    "df.shape"
   ]
  },
  {
   "cell_type": "code",
   "execution_count": 8,
   "id": "11a3187c-c785-4c4f-863a-ba3424096012",
   "metadata": {},
   "outputs": [
    {
     "data": {
      "text/plain": [
       "index                                  0\n",
       "HeartDisease                           0\n",
       "BMI                                    0\n",
       "Smoking                                0\n",
       "AlcoholDrinking                        0\n",
       "Stroke                                 0\n",
       "PhysicalHealth                         0\n",
       "MentalHealth                           0\n",
       "DiffWalking                            0\n",
       "Sex                                    0\n",
       "Diabetic                               0\n",
       "PhysicalActivity                       0\n",
       "SleepTime                              0\n",
       "Asthma                                 0\n",
       "KidneyDisease                          0\n",
       "SkinCancer                             0\n",
       "AgeCategory_18-24                      0\n",
       "AgeCategory_25-29                      0\n",
       "AgeCategory_30-34                      0\n",
       "AgeCategory_35-39                      0\n",
       "AgeCategory_40-44                      0\n",
       "AgeCategory_45-49                      0\n",
       "AgeCategory_50-54                      0\n",
       "AgeCategory_55-59                      0\n",
       "AgeCategory_60-64                      0\n",
       "AgeCategory_65-69                      0\n",
       "AgeCategory_70-74                      0\n",
       "AgeCategory_75-79                      0\n",
       "AgeCategory_80 or older                0\n",
       "Race_American Indian/Alaskan Native    0\n",
       "Race_Asian                             0\n",
       "Race_Black                             0\n",
       "Race_Hispanic                          0\n",
       "Race_Other                             0\n",
       "Race_White                             0\n",
       "GenHealth_Excellent                    0\n",
       "GenHealth_Fair                         0\n",
       "GenHealth_Good                         0\n",
       "GenHealth_Poor                         0\n",
       "GenHealth_Very good                    0\n",
       "dtype: int64"
      ]
     },
     "execution_count": 8,
     "metadata": {},
     "output_type": "execute_result"
    }
   ],
   "source": [
    "df.isna().sum()"
   ]
  },
  {
   "cell_type": "code",
   "execution_count": 9,
   "id": "57b9ebf2-1e75-4c75-9c6a-74c7d7fd88a8",
   "metadata": {},
   "outputs": [
    {
     "data": {
      "text/plain": [
       "0    252953\n",
       "1     66842\n",
       "Name: GenHealth_Excellent, dtype: int64"
      ]
     },
     "execution_count": 9,
     "metadata": {},
     "output_type": "execute_result"
    }
   ],
   "source": [
    "df['GenHealth_Excellent'].value_counts()"
   ]
  },
  {
   "cell_type": "markdown",
   "id": "17e47f4e-f8aa-4f89-b6c5-01f53eec1d25",
   "metadata": {},
   "source": [
    "df.plot(x='GenHealth_Excellent',y=['Race_Black'], kind='bar')"
   ]
  },
  {
   "cell_type": "code",
   "execution_count": 10,
   "id": "93b98dfa-af8f-4d9c-b0e4-49b0e0d6d494",
   "metadata": {},
   "outputs": [],
   "source": [
    "features = ['BMI', 'Smoking', 'AlcoholDrinking', 'Stroke',\n",
    "       'PhysicalHealth', 'MentalHealth', 'DiffWalking', 'Sex', 'Diabetic',\n",
    "       'PhysicalActivity', 'SleepTime', 'Asthma', 'KidneyDisease',\n",
    "       'SkinCancer', 'AgeCategory_18-24', 'AgeCategory_25-29',\n",
    "       'AgeCategory_30-34', 'AgeCategory_35-39', 'AgeCategory_40-44',\n",
    "       'AgeCategory_45-49', 'AgeCategory_50-54', 'AgeCategory_55-59',\n",
    "       'AgeCategory_60-64', 'AgeCategory_65-69', 'AgeCategory_70-74',\n",
    "       'AgeCategory_75-79', 'AgeCategory_80 or older',\n",
    "       'Race_American Indian/Alaskan Native', 'Race_Asian', 'Race_Black',\n",
    "       'Race_Hispanic', 'Race_Other', 'Race_White', 'GenHealth_Excellent',\n",
    "       'GenHealth_Fair', 'GenHealth_Good', 'GenHealth_Poor',\n",
    "       'GenHealth_Very good']\n",
    "target = 'HeartDisease'"
   ]
  },
  {
   "cell_type": "code",
   "execution_count": 11,
   "id": "99c3b972-27ea-40d2-bd50-2bd256cbbcda",
   "metadata": {},
   "outputs": [
    {
     "name": "stdout",
     "output_type": "stream",
     "text": [
      "Coefficients:  [ 2.84535470e-04  2.25895371e-02 -1.18514070e-02  1.78203261e-01\n",
      "  4.76120883e-04 -4.78262842e-05  3.30841595e-02  4.54923197e-02\n",
      "  6.21498430e-02 -1.05762445e-03 -4.97077404e-04  1.51098531e-02\n",
      "  8.78014258e-02  1.69781409e-02  5.23831053e+08  5.23831053e+08\n",
      "  5.23831053e+08  5.23831053e+08  5.23831053e+08  5.23831053e+08\n",
      "  5.23831053e+08  5.23831053e+08  5.23831053e+08  5.23831053e+08\n",
      "  5.23831053e+08  5.23831053e+08  5.23831053e+08  1.91161925e+08\n",
      "  1.91161925e+08  1.91161925e+08  1.91161925e+08  1.91161925e+08\n",
      "  1.91161925e+08 -2.01167533e+09 -2.01167533e+09 -2.01167533e+09\n",
      " -2.01167533e+09 -2.01167533e+09]\n",
      "Variance score: 0.14993667744513572\n",
      "Intercept: 1296682353.2723584\n"
     ]
    },
    {
     "data": {
      "image/png": "[encoded data removed]",
      "text/plain": [
       "<Figure size 432x288 with 1 Axes>"
      ]
     },
     "metadata": {},
     "output_type": "display_data"
    }
   ],
   "source": [
    "X = df[features]\n",
    "y = df[target]\n",
    "\n",
    "# splitting X and y into training and testing sets\n",
    "from sklearn.model_selection import train_test_split\n",
    "X_train, X_test, y_train, y_test = train_test_split(X, y, test_size=0.4,\n",
    "                                                    random_state=1)\n",
    " \n",
    "# create linear regression object\n",
    "reg = linear_model.LinearRegression()\n",
    " \n",
    "# train the model using the training sets\n",
    "reg.fit(X_train, y_train)\n",
    " \n",
    "# regression coefficients\n",
    "print('Coefficients: ', reg.coef_)\n",
    " \n",
    "# variance score: 1 means perfect prediction\n",
    "print('Variance score: {}'.format(reg.score(X_test, y_test)))\n",
    "\n",
    "print ('Intercept: {}'.format(reg.intercept_))\n",
    " \n",
    "# plot for residual error\n",
    " \n",
    "## setting plot style\n",
    "plt.style.use('fivethirtyeight')\n",
    " \n",
    "## plotting residual errors in training data\n",
    "plt.scatter(reg.predict(X_train), reg.predict(X_train) - y_train,\n",
    "            color = \"green\", s = 10, label = 'Train data')\n",
    " \n",
    "## plotting residual errors in test data\n",
    "plt.scatter(reg.predict(X_test), reg.predict(X_test) - y_test,\n",
    "            color = \"blue\", s = 10, label = 'Test data')\n",
    " \n",
    "## plotting line for zero residual error\n",
    "plt.hlines(y = 0, xmin = 0, xmax = 50, linewidth = 2)\n",
    " \n",
    "## plotting legend\n",
    "plt.legend(loc = 'upper right')\n",
    " \n",
    "## plot title\n",
    "plt.title(\"Residual errors\")\n",
    " \n",
    "## method call for showing the plot\n",
    "plt.show()"
   ]
  },
  {
   "cell_type": "markdown",
   "id": "c9bff4a3-0fa3-4464-b98c-8e6948ea4cd8",
   "metadata": {},
   "source": [
    "['BMI', 'Smoking', 'AlcoholDrinking', 'Stroke',\n",
    "       'PhysicalHealth', 'MentalHealth', 'DiffWalking', 'Sex', 'Diabetic',\n",
    "       'PhysicalActivity', 'SleepTime', 'Asthma', 'KidneyDisease',\n",
    "       'SkinCancer', 'AgeCategory_18-24', 'AgeCategory_25-29',\n",
    "       'AgeCategory_30-34', 'AgeCategory_35-39', 'AgeCategory_40-44',\n",
    "       'AgeCategory_45-49', 'AgeCategory_50-54', 'AgeCategory_55-59',\n",
    "       'AgeCategory_60-64', 'AgeCategory_65-69', 'AgeCategory_70-74',\n",
    "       'AgeCategory_75-79', 'AgeCategory_80 or older',\n",
    "       'Race_American Indian/Alaskan Native', 'Race_Asian', 'Race_Black',\n",
    "       'Race_Hispanic', 'Race_Other', 'Race_White', 'GenHealth_Excellent',\n",
    "       'GenHealth_Fair', 'GenHealth_Good', 'GenHealth_Poor',\n",
    "       'GenHealth_Very good']\n"
   ]
  },
  {
   "cell_type": "markdown",
   "id": "1f47443c-6ba4-40bf-bbdb-adc725983e2b",
   "metadata": {},
   "source": [
    "BMI', 'Smoking', 'AlcoholDrinking', 'Stroke', 'PhysicalHealth', 'MentalHealth', 'DiffWalking', 'Sex', 'AgeCategory', 'Race', 'Diabetic', 'PhysicalActivity', 'GenHealth', 'SleepTime', 'Asthma', 'KidneyDisease', 'SkinCancer"
   ]
  },
  {
   "cell_type": "code",
   "execution_count": 12,
   "id": "7d4d15f1-e264-4ed3-84e6-78a5dff8b13f",
   "metadata": {},
   "outputs": [],
   "source": [
    "def buildFeatures(BMI=28.32 # Number\n",
    "         , Smoking='No' #Yes/No\n",
    "         , AlcoholDrinking='No' #Yes/No\n",
    "         , Stroke='No' #Yes/No\n",
    "         , PhysicalHealth=3.3 #Range\n",
    "         , MentalHealth=3.8 #Range\n",
    "         , DiffWalking='No' #Yes/No\n",
    "         , Sex='Male' #Male/Female\n",
    "         , AgeCategory='40-44' #Number\n",
    "         , Race='Other' #Category\n",
    "         , Diabetic='No' #Yes/No\n",
    "         , PhysicalActivity='No' #Yes/No\n",
    "         , GenHealth=15 #number\n",
    "         , SleepTime=8 #number\n",
    "         , Asthma='No' #Yes/No\n",
    "         , KidneyDisease='No' #Yes/No\n",
    "         , SkinCancer='No'): #Yes/No\n",
    "\n",
    "    YesNo2Binary = lambda flg: 1 if flg == 'Yes' else 0\n",
    "    Sex2Binary = lambda flg: 1 if flg == 'Male' else 0\n",
    "    prefixer = lambda l, prefix: [ prefix + c for c in l]\n",
    "    dataListBuilder = lambda l, data: [ 1 if c == data else 0 for c in l]\n",
    "    buildDict = lambda keys, values: dict(zip(keys, values))\n",
    "\n",
    "    AgeCatList= ['55-59', '80 or older', '65-69', '75-79', '40-44', '70-74', '60-64', '50-54', '45-49', '18-24', '35-39', '30-34', '25-29']\n",
    "    AgeCatList.sort()\n",
    "    AgeCatColPrefix = 'AgeCategory_'\n",
    "    AgeCatCols = prefixer(AgeCatList, AgeCatColPrefix)\n",
    "    AgeCatColsData = dataListBuilder (AgeCatList, AgeCategory)\n",
    "    AgeCatData = buildDict(AgeCatCols, AgeCatColsData)\n",
    "    print (\"\\n*** AgeCatData\", AgeCatData)\n",
    "    \n",
    "    RaceCatList= ['White', 'Black', 'Asian', 'American Indian/Alaskan Native', 'Other', 'Hispanic']\n",
    "    RaceCatList.sort()\n",
    "    RaceCatColPrefix = 'Race_'\n",
    "    RaceCatCols = prefixer(RaceCatList, RaceCatColPrefix)\n",
    "    RaceCatColsData = dataListBuilder (RaceCatList, Race)\n",
    "    RaceCatData = buildDict(RaceCatCols, RaceCatColsData)\n",
    "    print (\"\\n*** RaceCatData\", RaceCatData)\n",
    "    \n",
    "    GenHealthCatList= ['Very good', 'Fair', 'Good', 'Poor', 'Excellent']\n",
    "    GenHealthCatList.sort()\n",
    "    GenHealthCatColPrefix = 'GenHealth_'\n",
    "    GenHealthCatCols = prefixer(GenHealthCatList, GenHealthCatColPrefix)\n",
    "    GenHealthCatColsData = dataListBuilder (GenHealthCatList, GenHealth)\n",
    "    GenHealthData = buildDict(GenHealthCatCols, GenHealthCatColsData)\n",
    "    print (\"\\n*** GenHealthData\", GenHealthData)\n",
    "    \n",
    "    PhysicalHealthMin= 0.0\n",
    "    PhysicalHealthMax= 30.0\n",
    "    MentalHealthMin= 0.0\n",
    "    MentalHealthMax= 30.0\n",
    "    SleepTimeMin= 1.0\n",
    "    SleepTimeMax= 24.0\n",
    "    \n",
    "    d = {'BMI' : BMI\n",
    "         , 'Smoking' : YesNo2Binary(Smoking)\n",
    "         , 'AlcoholDrinking' : YesNo2Binary(AlcoholDrinking)\n",
    "         , 'Stroke' : YesNo2Binary(Stroke)\n",
    "         , 'PhysicalHealth' : PhysicalHealth\n",
    "         , 'MentalHealth' : MentalHealth\n",
    "         , 'DiffWalking': YesNo2Binary(DiffWalking)\n",
    "         , 'Sex' : Sex2Binary(Sex)\n",
    "         , 'Diabetic' : YesNo2Binary(Diabetic)\n",
    "         , 'PhysicalActivity' : YesNo2Binary(PhysicalActivity)\n",
    "         , 'SleepTime' : SleepTime\n",
    "         , 'Asthma' : YesNo2Binary(Asthma)\n",
    "         , 'KidneyDisease' : YesNo2Binary(KidneyDisease)\n",
    "         , 'SkinCancer' : YesNo2Binary(SkinCancer)\n",
    "         , 'AgeCategory_18-24' : AgeCatData['AgeCategory_18-24']\n",
    "         , 'AgeCategory_25-29' : AgeCatData['AgeCategory_25-29']\n",
    "         , 'AgeCategory_30-34' : AgeCatData['AgeCategory_30-34']\n",
    "         , 'AgeCategory_35-39' : AgeCatData['AgeCategory_35-39']\n",
    "         , 'AgeCategory_40-44' : AgeCatData['AgeCategory_40-44']\n",
    "         , 'AgeCategory_45-49' : AgeCatData['AgeCategory_45-49']\n",
    "         , 'AgeCategory_50-54' : AgeCatData['AgeCategory_50-54']\n",
    "         , 'AgeCategory_55-59' : AgeCatData['AgeCategory_55-59']\n",
    "         , 'AgeCategory_60-64' : AgeCatData['AgeCategory_60-64']\n",
    "         , 'AgeCategory_65-69' : AgeCatData['AgeCategory_65-69']\n",
    "         , 'AgeCategory_70-74' : AgeCatData['AgeCategory_70-74']\n",
    "         , 'AgeCategory_75-79' : AgeCatData['AgeCategory_75-79']\n",
    "         , 'AgeCategory_80 or older' : AgeCatData['AgeCategory_80 or older']\n",
    "         , 'Race_American Indian/Alaskan Native' : RaceCatData['Race_American Indian/Alaskan Native']\n",
    "         , 'Race_Asian' : RaceCatData['Race_Asian']\n",
    "         , 'Race_Black' : RaceCatData['Race_Black']\n",
    "         , 'Race_Hispanic' : RaceCatData['Race_Hispanic']\n",
    "         , 'Race_Other' : RaceCatData['Race_Other']\n",
    "         , 'Race_White' : RaceCatData['Race_White']\n",
    "         , 'GenHealth_Excellent' : GenHealthData['GenHealth_Excellent']\n",
    "         , 'GenHealth_Fair' : GenHealthData['GenHealth_Excellent']\n",
    "         , 'GenHealth_Good' : GenHealthData['GenHealth_Good']\n",
    "         , 'GenHealth_Poor' : GenHealthData['GenHealth_Poor']\n",
    "         , 'GenHealth_Very good':GenHealthData['GenHealth_Very good']}\n",
    "    print (\"\\n\\n*** d\", d)\n",
    "    return d\n",
    "\n",
    "def buildOptionsDict(lbl):\n",
    "    opt = []\n",
    "    for i in range(len(lbl)):\n",
    "        d = {}\n",
    "        d['label'] = lbl[i]\n",
    "        d['value'] = lbl[i]\n",
    "        opt.append(d)\n",
    "    return opt"
   ]
  },
  {
   "cell_type": "code",
   "execution_count": 13,
   "id": "fbcc5a72-72dd-4b98-9bd0-b9bda2280a80",
   "metadata": {},
   "outputs": [
    {
     "name": "stdout",
     "output_type": "stream",
     "text": [
      "\n",
      "*** AgeCatData {'AgeCategory_18-24': 0, 'AgeCategory_25-29': 0, 'AgeCategory_30-34': 0, 'AgeCategory_35-39': 0, 'AgeCategory_40-44': 0, 'AgeCategory_45-49': 0, 'AgeCategory_50-54': 0, 'AgeCategory_55-59': 0, 'AgeCategory_60-64': 0, 'AgeCategory_65-69': 0, 'AgeCategory_70-74': 0, 'AgeCategory_75-79': 1, 'AgeCategory_80 or older': 0}\n",
      "\n",
      "*** RaceCatData {'Race_American Indian/Alaskan Native': 0, 'Race_Asian': 0, 'Race_Black': 0, 'Race_Hispanic': 1, 'Race_Other': 0, 'Race_White': 0}\n",
      "\n",
      "*** GenHealthData {'GenHealth_Excellent': 0, 'GenHealth_Fair': 0, 'GenHealth_Good': 0, 'GenHealth_Poor': 1, 'GenHealth_Very good': 0}\n",
      "\n",
      "\n",
      "*** d {'BMI': 98.32, 'Smoking': 1, 'AlcoholDrinking': 1, 'Stroke': 1, 'PhysicalHealth': 1.3, 'MentalHealth': 1.8, 'DiffWalking': 1, 'Sex': 1, 'Diabetic': 1, 'PhysicalActivity': 0, 'SleepTime': 4, 'Asthma': 1, 'KidneyDisease': 1, 'SkinCancer': 1, 'AgeCategory_18-24': 0, 'AgeCategory_25-29': 0, 'AgeCategory_30-34': 0, 'AgeCategory_35-39': 0, 'AgeCategory_40-44': 0, 'AgeCategory_45-49': 0, 'AgeCategory_50-54': 0, 'AgeCategory_55-59': 0, 'AgeCategory_60-64': 0, 'AgeCategory_65-69': 0, 'AgeCategory_70-74': 0, 'AgeCategory_75-79': 1, 'AgeCategory_80 or older': 0, 'Race_American Indian/Alaskan Native': 0, 'Race_Asian': 0, 'Race_Black': 0, 'Race_Hispanic': 1, 'Race_Other': 0, 'Race_White': 0, 'GenHealth_Excellent': 0, 'GenHealth_Fair': 0, 'GenHealth_Good': 0, 'GenHealth_Poor': 1, 'GenHealth_Very good': 0}\n",
      "{'BMI': 98.32, 'Smoking': 1, 'AlcoholDrinking': 1, 'Stroke': 1, 'PhysicalHealth': 1.3, 'MentalHealth': 1.8, 'DiffWalking': 1, 'Sex': 1, 'Diabetic': 1, 'PhysicalActivity': 0, 'SleepTime': 4, 'Asthma': 1, 'KidneyDisease': 1, 'SkinCancer': 1, 'AgeCategory_18-24': 0, 'AgeCategory_25-29': 0, 'AgeCategory_30-34': 0, 'AgeCategory_35-39': 0, 'AgeCategory_40-44': 0, 'AgeCategory_45-49': 0, 'AgeCategory_50-54': 0, 'AgeCategory_55-59': 0, 'AgeCategory_60-64': 0, 'AgeCategory_65-69': 0, 'AgeCategory_70-74': 0, 'AgeCategory_75-79': 1, 'AgeCategory_80 or older': 0, 'Race_American Indian/Alaskan Native': 0, 'Race_Asian': 0, 'Race_Black': 0, 'Race_Hispanic': 1, 'Race_Other': 0, 'Race_White': 0, 'GenHealth_Excellent': 0, 'GenHealth_Fair': 0, 'GenHealth_Good': 0, 'GenHealth_Poor': 1, 'GenHealth_Very good': 0}\n",
      "dict_keys(['BMI', 'Smoking', 'AlcoholDrinking', 'Stroke', 'PhysicalHealth', 'MentalHealth', 'DiffWalking', 'Sex', 'Diabetic', 'PhysicalActivity', 'SleepTime', 'Asthma', 'KidneyDisease', 'SkinCancer', 'AgeCategory_18-24', 'AgeCategory_25-29', 'AgeCategory_30-34', 'AgeCategory_35-39', 'AgeCategory_40-44', 'AgeCategory_45-49', 'AgeCategory_50-54', 'AgeCategory_55-59', 'AgeCategory_60-64', 'AgeCategory_65-69', 'AgeCategory_70-74', 'AgeCategory_75-79', 'AgeCategory_80 or older', 'Race_American Indian/Alaskan Native', 'Race_Asian', 'Race_Black', 'Race_Hispanic', 'Race_Other', 'Race_White', 'GenHealth_Excellent', 'GenHealth_Fair', 'GenHealth_Good', 'GenHealth_Poor', 'GenHealth_Very good'])\n",
      "Features for inference: [[98.32, 1, 1, 1, 1.3, 1.8, 1, 1, 1, 0, 4, 1, 1, 1, 0, 0, 0, 0, 0, 0, 0, 0, 0, 0, 0, 1, 0, 0, 0, 0, 1, 0, 0, 0, 0, 0, 1, 0]]\n",
      "Predicted: [0.71581602]\n"
     ]
    }
   ],
   "source": [
    "dd = buildFeatures(BMI=98.32 # Number\n",
    "         , Smoking='Yes' #Yes/No\n",
    "         , AlcoholDrinking='Yes' #Yes/No\n",
    "         , Stroke='Yes' #Yes/No\n",
    "         , PhysicalHealth=1.3 #Range\n",
    "         , MentalHealth=1.8 #Range\n",
    "         , DiffWalking='Yes' #Yes/No\n",
    "         , Sex='Male' #Male/Female\n",
    "         , AgeCategory='75-79' #Number\n",
    "         , Race='Hispanic' #Category\n",
    "         , Diabetic='Yes' #Yes/No\n",
    "         , PhysicalActivity='No' #Yes/No\n",
    "         , GenHealth='Poor' #number\n",
    "         , SleepTime=4 #number\n",
    "         , Asthma='Yes' #Yes/No\n",
    "         , KidneyDisease='Yes' #Yes/No\n",
    "         , SkinCancer='Yes') #Yes/No\n",
    "print (dd) \n",
    "print (dd.keys()) \n",
    "fts = [list(dd.values())]\n",
    "print (\"Features for inference:\", fts) \n",
    "print (\"Predicted:\", reg.predict(fts))"
   ]
  },
  {
   "cell_type": "markdown",
   "id": "f60f95c3-95f5-469a-99f5-20b17c09fb3e",
   "metadata": {},
   "source": [
    "['BMI', 'Smoking', 'AlcoholDrinking', 'Stroke', 'PhysicalHealth', 'MentalHealth', 'DiffWalking', 'Sex', 'Diabetic', 'PhysicalActivity', 'SleepTime', 'Asthma', 'KidneyDisease', 'SkinCancer', 'AgeCategory_18-24', 'AgeCategory_25-29', 'AgeCategory_30-34', 'AgeCategory_35-39', 'AgeCategory_40-44', 'AgeCategory_45-49', 'AgeCategory_50-54', 'AgeCategory_55-59', 'AgeCategory_60-64', 'AgeCategory_65-69', 'AgeCategory_70-74', 'AgeCategory_75-79', 'AgeCategory_80 or older', 'Race_American Indian/Alaskan Native', 'Race_Asian', 'Race_Black', 'Race_Hispanic', 'Race_Other', 'Race_White', 'GenHealth_Excellent', 'GenHealth_Fair', 'GenHealth_Good', 'GenHealth_Poor', 'GenHealth_Very good']\n",
    "d = {'BMI' : 0\n",
    "         , 'Smoking' : 0\n",
    "         , 'AlcoholDrinking' : 0\n",
    "         , 'Stroke' : 0\n",
    "         , 'PhysicalHealth' : 0\n",
    "         , 'MentalHealth' : 0\n",
    "         , 'DiffWalking' : 0\n",
    "         , 'Sex' : 0\n",
    "         , 'Diabetic' : 0\n",
    "         , 'PhysicalActivity' : 0\n",
    "         , 'SleepTime' : 0\n",
    "         , 'Asthma' : 0\n",
    "         , 'KidneyDisease' : 0\n",
    "         , 'SkinCancer' : 0\n",
    "         , 'AgeCategory_18-24' : 0\n",
    "         , 'AgeCategory_25-29' : 0\n",
    "         , 'AgeCategory_30-34' : 0\n",
    "         , 'AgeCategory_35-39' : 0\n",
    "         , 'AgeCategory_40-44' : 0\n",
    "         , 'AgeCategory_45-49' : 0\n",
    "         , 'AgeCategory_50-54' : 0\n",
    "         , 'AgeCategory_55-59' : 0\n",
    "         , 'AgeCategory_60-64' : 0\n",
    "         , 'AgeCategory_65-69' : 0\n",
    "         , 'AgeCategory_70-74' : 0\n",
    "         , 'AgeCategory_75-79' : 0\n",
    "         , 'AgeCategory_80 or older' : 0\n",
    "         , 'Race_American Indian/Alaskan Native' : 0\n",
    "         , 'Race_Asian' : 0\n",
    "         , 'Race_Black' : 0\n",
    "         , 'Race_Hispanic' : 0\n",
    "         , 'Race_Other' : 0\n",
    "         , 'Race_White' : 0\n",
    "         , 'GenHealth_Excellent' : 0\n",
    "         , 'GenHealth_Fair' : 0\n",
    "         , 'GenHealth_Good' : 0\n",
    "         , 'GenHealth_Poor' : 0\n",
    "         , 'GenHealth_Very good': 0}\n",
    "\n",
    "print(d)"
   ]
  },
  {
   "cell_type": "markdown",
   "id": "77431166-13e2-4518-bdb7-cc530f80ff5b",
   "metadata": {},
   "source": [
    "print (\"AgeCatList=\", AgeCatList)\n",
    "print (\"RaceCatList=\", RaceCatList)\n",
    "print (\"GenHealthCatList=\", GenHealthCatList)\n",
    "print (\"PhysicalHealthMin=\", PhysicalHealthMin)\n",
    "print (\"PhysicalHealthMax=\", PhysicalHealthMax)\n",
    "print (\"MentalHealthMin=\", MentalHealthMin)\n",
    "print (\"MentalHealthMax=\", MentalHealthMax)\n",
    "print (\"SleepTimeMin=\", SleepTimeMin)\n",
    "print (\"SleepTimeMax=\", SleepTimeMax)"
   ]
  },
  {
   "cell_type": "code",
   "execution_count": 14,
   "id": "71f2ec5d-27b3-4fa0-bcc0-397d1a3a6d8a",
   "metadata": {},
   "outputs": [
    {
     "data": {
      "text/plain": [
       "[{'label': 'White', 'value': 'White'},\n",
       " {'label': 'Black', 'value': 'Black'},\n",
       " {'label': 'Asian', 'value': 'Asian'},\n",
       " {'label': 'American Indian/Alaskan Native',\n",
       "  'value': 'American Indian/Alaskan Native'},\n",
       " {'label': 'Other', 'value': 'Other'},\n",
       " {'label': 'Hispanic', 'value': 'Hispanic'}]"
      ]
     },
     "execution_count": 14,
     "metadata": {},
     "output_type": "execute_result"
    }
   ],
   "source": [
    "buildOptionsDict(RaceCatList)"
   ]
  },
  {
   "cell_type": "code",
   "execution_count": 15,
   "id": "07652dd4-9730-46d3-ab0e-9b3e8775d097",
   "metadata": {},
   "outputs": [
    {
     "name": "stdout",
     "output_type": "stream",
     "text": [
      "[(0.0002845354700880931, 'BMI'), (0.022589537089641436, 'Smoking'), (-0.011851406966290095, 'AlcoholDrinking'), (0.17820326117403426, 'Stroke'), (0.0004761208831829981, 'PhysicalHealth'), (-4.782628422998607e-05, 'MentalHealth'), (0.03308415945324405, 'DiffWalking'), (0.0454923197130941, 'Sex'), (0.06214984297001379, 'Diabetic'), (-0.0010576244490466968, 'PhysicalActivity'), (-0.0004970774036721759, 'SleepTime'), (0.015109853147495748, 'Asthma'), (0.08780142584901011, 'KidneyDisease'), (0.016978140852657184, 'SkinCancer'), (523831052.6437511, 'AgeCategory_18-24'), (523831052.64101183, 'AgeCategory_25-29'), (523831052.6399399, 'AgeCategory_30-34'), (523831052.6378628, 'AgeCategory_35-39'), (523831052.6407789, 'AgeCategory_40-44'), (523831052.64641994, 'AgeCategory_45-49'), (523831052.6590773, 'AgeCategory_50-54'), (523831052.6663285, 'AgeCategory_55-59'), (523831052.6870432, 'AgeCategory_60-64'), (523831052.7063781, 'AgeCategory_65-69'), (523831052.7346576, 'AgeCategory_70-74'), (523831052.7546165, 'AgeCategory_75-79'), (523831052.78677785, 'AgeCategory_80 or older'), (191161924.6073955, 'Race_American Indian/Alaskan Native'), (191161924.59325477, 'Race_Asian'), (191161924.58737656, 'Race_Black'), (191161924.59280378, 'Race_Hispanic'), (191161924.60418147, 'Race_Other'), (191161924.6044424, 'Race_White'), (-2011675330.563563, 'GenHealth_Excellent'), (-2011675330.4709725, 'GenHealth_Fair'), (-2011675330.5284653, 'GenHealth_Good'), (-2011675330.38004, 'GenHealth_Poor'), (-2011675330.5573392, 'GenHealth_Very good')]\n",
      "Regression Equation:  y = 1296682353.2724 + 0.0003*BMI + 0.0226*Smoking + -0.0119*AlcoholDrinking + 0.1782*Stroke+ 0.0005*PhysicalHealth+ -0.0*MentalHealth \n",
      "1296682353.2724  + (0.0003 * BMI) + (0.0226 * Smoking) + (-0.0119 * AlcoholDrinking) + (0.1782 * Stroke) + (0.0005 * PhysicalHealth) + (-0.0 * MentalHealth) + (0.0331 * DiffWalking) + (0.0455 * Sex) + (0.0621 * Diabetic) + (-0.0011 * PhysicalActivity) + (-0.0005 * SleepTime) + (0.0151 * Asthma) + (0.0878 * KidneyDisease) + (0.017 * SkinCancer) + (523831052.6438 * AgeCategory_18-24) + (523831052.641 * AgeCategory_25-29) + (523831052.6399 * AgeCategory_30-34) + (523831052.6379 * AgeCategory_35-39) + (523831052.6408 * AgeCategory_40-44) + (523831052.6464 * AgeCategory_45-49) + (523831052.6591 * AgeCategory_50-54) + (523831052.6663 * AgeCategory_55-59) + (523831052.687 * AgeCategory_60-64) + (523831052.7064 * AgeCategory_65-69) + (523831052.7347 * AgeCategory_70-74) + (523831052.7546 * AgeCategory_75-79) + (523831052.7868 * AgeCategory_80 or older) + (191161924.6074 * Race_American Indian/Alaskan Native) + (191161924.5933 * Race_Asian) + (191161924.5874 * Race_Black) + (191161924.5928 * Race_Hispanic) + (191161924.6042 * Race_Other) + (191161924.6044 * Race_White) + (-2011675330.5636 * GenHealth_Excellent) + (-2011675330.471 * GenHealth_Fair) + (-2011675330.5285 * GenHealth_Good) + (-2011675330.38 * GenHealth_Poor) + (-2011675330.5573 * GenHealth_Very good)\n"
     ]
    }
   ],
   "source": [
    "# what is the equation for this model?\n",
    "cols=list(X.columns)\n",
    "coefs=list(reg.coef_)\n",
    "xcoefs = [(coefs[i], cols[i]) for i in range(0, len(cols))]\n",
    "print (xcoefs)\n",
    "equation = f'y = {round(reg.intercept_,4)} + {round(xcoefs[0][0],4)}*{xcoefs[0][1]} + {round(xcoefs[1][0],4)}*{xcoefs[1][1]} + {round(xcoefs[2][0],4)}*{xcoefs[2][1]} + {round(xcoefs[3][0],4)}*{xcoefs[3][1]}+ {round(xcoefs[4][0],4)}*{xcoefs[4][1]}+ {round(xcoefs[5][0],4)}*{xcoefs[5][1]} '\n",
    "print(\"Regression Equation: \", equation)  \n",
    "\n",
    "s = \"\"\n",
    "for i in xcoefs:\n",
    "    s += \" + (\" + (str(round(i[0],4))+\" * \"+i[1]) + \")\"\n",
    "s = str(round(reg.intercept_,4)) + \" \" + s\n",
    "print (s)"
   ]
  },
  {
   "cell_type": "code",
   "execution_count": 16,
   "id": "c847a5d0-0df4-40f0-a5cc-75d1fe09cfd4",
   "metadata": {},
   "outputs": [
    {
     "data": {
      "text/plain": [
       "{'copy_X': True,\n",
       " 'fit_intercept': True,\n",
       " 'n_jobs': None,\n",
       " 'normalize': False,\n",
       " 'positive': False}"
      ]
     },
     "execution_count": 16,
     "metadata": {},
     "output_type": "execute_result"
    }
   ],
   "source": [
    "# pickle your model\n",
    "import pickle\n",
    "filename = open('cohos_lr_model.pkl', 'wb')\n",
    "pickle.dump(reg, filename)\n",
    "filename.close()\n",
    "\n",
    "## read in our pickle file\n",
    "filename = open('cohos_lr_model.pkl', 'rb')\n",
    "unpickled_model = pickle.load(filename)\n",
    "filename.close()\n",
    "\n",
    "unpickled_model.get_params()"
   ]
  },
  {
   "cell_type": "code",
   "execution_count": 17,
   "id": "f597759c-b01c-45d3-b336-bb6d78674fec",
   "metadata": {},
   "outputs": [
    {
     "name": "stdout",
     "output_type": "stream",
     "text": [
      "(319795, 38) (319795,)\n"
     ]
    }
   ],
   "source": [
    "xnp = X.to_numpy()\n",
    "ynp = y.to_numpy()\n",
    "sxnp = xnp.shape\n",
    "synp = ynp.shape\n",
    "print (sxnp, synp)"
   ]
  },
  {
   "cell_type": "code",
   "execution_count": 18,
   "id": "3c805910-2ca1-4ff4-8211-320d68d1da6c",
   "metadata": {},
   "outputs": [],
   "source": [
    "def estimate_coef(x, y):\n",
    "    # number of observations/points\n",
    "    n = np.size(x)\n",
    " \n",
    "    # mean of x and y vector\n",
    "    m_x = np.mean(x)\n",
    "    m_y = np.mean(y)\n",
    " \n",
    "    # calculating cross-deviation and deviation about x\n",
    "    SS_xy = np.sum(y*x) - n*m_y*m_x\n",
    "    SS_xx = np.sum(x*x) - n*m_x*m_x\n",
    " \n",
    "    # calculating regression coefficients\n",
    "    b_1 = SS_xy / SS_xx\n",
    "    b_0 = m_y - b_1*m_x\n",
    " \n",
    "    return (b_0, b_1)"
   ]
  },
  {
   "cell_type": "code",
   "execution_count": 19,
   "id": "1d8712c3",
   "metadata": {},
   "outputs": [],
   "source": [
    "ynp1 = ynp.reshape(319795,1)"
   ]
  },
  {
   "cell_type": "code",
   "execution_count": 20,
   "id": "d767f18c",
   "metadata": {},
   "outputs": [
    {
     "data": {
      "text/plain": [
       "(319795, 1)"
      ]
     },
     "execution_count": 20,
     "metadata": {},
     "output_type": "execute_result"
    }
   ],
   "source": [
    "ynp1.shape"
   ]
  },
  {
   "cell_type": "code",
   "execution_count": 21,
   "id": "a2ac157e-f41f-49f0-8c5d-29d91d378a42",
   "metadata": {},
   "outputs": [
    {
     "data": {
      "text/plain": [
       "1510608.7800000003"
      ]
     },
     "execution_count": 21,
     "metadata": {},
     "output_type": "execute_result"
    }
   ],
   "source": [
    "np.sum(ynp1 * xnp)"
   ]
  },
  {
   "cell_type": "code",
   "execution_count": 22,
   "id": "c0d98e78-edc1-4a6f-b608-2d3dbed8259c",
   "metadata": {},
   "outputs": [
    {
     "name": "stdout",
     "output_type": "stream",
     "text": [
      "(0.08481221866039243, 0.0006201678789680827)\n"
     ]
    }
   ],
   "source": [
    "print (estimate_coef(xnp, ynp1))"
   ]
  },
  {
   "cell_type": "code",
   "execution_count": 23,
   "id": "ab0158a9-6def-43f3-97a5-a274dbd47f65",
   "metadata": {},
   "outputs": [
    {
     "name": "stdout",
     "output_type": "stream",
     "text": [
      "[-0.04432392  0.41736102  0.10690689 ... -0.04012299  0.22244549\n",
      "  0.0585711 ]\n"
     ]
    }
   ],
   "source": [
    "# Make Predictions using metrics\n",
    "y_predicts = reg.predict(X_test)\n",
    "print (y_predicts)"
   ]
  },
  {
   "cell_type": "code",
   "execution_count": 24,
   "id": "72bc08a1-f750-4a8e-ae38-42f1763b25e1",
   "metadata": {},
   "outputs": [
    {
     "name": "stdout",
     "output_type": "stream",
     "text": [
      "[-0.04, 0.42, 0.11, 0.02, 0.18, 0.16, 0.17, 0.04, 0.12, 0.07]\n",
      "[0, 1, 0, 0, 1, 1, 0, 0, 0, 0]\n"
     ]
    }
   ],
   "source": [
    "print ([round(x,2) for x in y_predicts[:10]])\n",
    "print (list(y_test[:10]))"
   ]
  },
  {
   "cell_type": "code",
   "execution_count": 40,
   "id": "b1557960-0328-4328-8edb-38ffa1d24e03",
   "metadata": {},
   "outputs": [
    {
     "data": {
      "image/png": "[encoded data removed]",
      "text/plain": [
       "<Figure size 432x432 with 1 Axes>"
      ]
     },
     "metadata": {},
     "output_type": "display_data"
    }
   ],
   "source": [
    "\n",
    "# compare predictions to known values\n",
    "plt.figure(figsize=(6,6))\n",
    "ax = sns.regplot(x = y_predicts, \n",
    "                 y = y_test, \n",
    "                 scatter_kws={\"color\": \"black\"}, \n",
    "                 line_kws={\"color\": \"red\"})\n",
    "ax.set(xlabel='predicted values', ylabel='true values');\n",
    "\n",
    "# same thing with plotly\n",
    "#import plotly.express as px\n",
    "#fig = px.scatter(x=y_predicts, y=y_test, trendline=\"ols\", width=500, height=500)\n",
    "#fig.update_layout(title = 'Evaluation', # Graph title\n",
    "#    xaxis = dict(title = 'predicted values'), # x-axis label\n",
    "#    yaxis = dict(title = 'true values'), # y-axis label   \n",
    "#)\n",
    "#fig.show()"
   ]
  },
  {
   "cell_type": "code",
   "execution_count": 29,
   "id": "81a093d7-4220-4acb-8d80-407722ee10d3",
   "metadata": {},
   "outputs": [
    {
     "data": {
      "text/plain": [
       "0.25796010412462594"
      ]
     },
     "execution_count": 29,
     "metadata": {},
     "output_type": "execute_result"
    }
   ],
   "source": [
    "# root mean sq error\n",
    "rmse = sqrt(metrics.mean_squared_error(y_test, y_predicts))\n",
    "rmse"
   ]
  },
  {
   "cell_type": "code",
   "execution_count": 31,
   "id": "cc19b7aa-03cb-470e-a865-9b8cd1cbde35",
   "metadata": {},
   "outputs": [
    {
     "data": {
      "text/plain": [
       "0.08558607858159133"
      ]
     },
     "execution_count": 31,
     "metadata": {},
     "output_type": "execute_result"
    }
   ],
   "source": [
    "avg_value = y_train.mean()\n",
    "avg_value"
   ]
  },
  {
   "cell_type": "code",
   "execution_count": 37,
   "id": "6615d82c-515d-4f7c-bd4f-d0cb803277fb",
   "metadata": {},
   "outputs": [
    {
     "name": "stdout",
     "output_type": "stream",
     "text": [
      "[0.08558608 0.08558608 0.08558608 0.08558608 0.08558608 0.08558608\n",
      " 0.08558608 0.08558608 0.08558608 0.08558608]\n",
      "[-0.04432392120361328, 0.4173610210418701, 0.10690689086914062, 0.017041683197021484, 0.17985177040100098, 0.15987682342529297, 0.1656055450439453, 0.04354691505432129, 0.12438797950744629, 0.06678581237792969]\n"
     ]
    }
   ],
   "source": [
    "comparison = np.full((len(y_test), ), avg_value)\n",
    "print(comparison[:10])\n",
    "print(list(y_predicts[:10]))"
   ]
  },
  {
   "cell_type": "code",
   "execution_count": 38,
   "id": "4bf47ca4-02ff-4cb3-95ca-719eae17c235",
   "metadata": {},
   "outputs": [
    {
     "data": {
      "text/plain": [
       "0.27978659696225544"
      ]
     },
     "execution_count": 38,
     "metadata": {},
     "output_type": "execute_result"
    }
   ],
   "source": [
    "sqrt(metrics.mean_squared_error(y_test, comparison))"
   ]
  },
  {
   "cell_type": "code",
   "execution_count": 39,
   "id": "8c5dc3a8-41d7-476d-b65d-9b772509a064",
   "metadata": {},
   "outputs": [
    {
     "data": {
      "text/plain": [
       "0.15"
      ]
     },
     "execution_count": 39,
     "metadata": {},
     "output_type": "execute_result"
    }
   ],
   "source": [
    "# R-2 (coefficient of determination)\n",
    "r2 = metrics.r2_score(y_test, y_predicts)\n",
    "round(r2, 2)"
   ]
  },
  {
   "cell_type": "code",
   "execution_count": null,
   "id": "d5d08bf1-72a2-41a6-a5f3-c907db9d4246",
   "metadata": {},
   "outputs": [],
   "source": []
  }
 ],
 "metadata": {
  "kernelspec": {
   "display_name": "Python 3",
   "language": "python",
   "name": "python3"
  },
  "language_info": {
   "codemirror_mode": {
    "name": "ipython",
    "version": 3
   },
   "file_extension": ".py",
   "mimetype": "text/x-python",
   "name": "python",
   "nbconvert_exporter": "python",
   "pygments_lexer": "ipython3",
   "version": "3.8.8"
  }
 },
 "nbformat": 4,
 "nbformat_minor": 5
}
